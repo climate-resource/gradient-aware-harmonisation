{
 "cells": [
  {
   "metadata": {},
   "cell_type": "code",
   "outputs": [],
   "execution_count": null,
   "source": [
    "import numpy as np\n",
    "import pandas as pd\n",
    "import matplotlib.pyplot as plt\n",
    "\n",
    "from copy import deepcopy\n",
    "from gradient_aware_harmonisation.harmonise import harmonise"
   ],
   "id": "bfdcaae06d38791f"
  },
  {
   "metadata": {},
   "cell_type": "markdown",
   "source": [
    "## Sensitivity of results wrt number of observations\n",
    "### Setup simulation study"
   ],
   "id": "7001e9621e812187"
  },
  {
   "cell_type": "code",
   "id": "initial_id",
   "metadata": {
    "collapsed": true,
    "ExecuteTime": {
     "end_time": "2025-03-10T09:51:21.197860Z",
     "start_time": "2025-03-10T09:51:14.543161Z"
    }
   },
   "source": [
    "# initialize result tables\n",
    "## for absolute value\n",
    "df_res = dict(\n",
    "    N = [],\n",
    "    historical = [],\n",
    "    abs = [],\n",
    "    abs_slope = [],\n",
    "    interpolated = []\n",
    ")\n",
    "## for first-order derivatives\n",
    "df_res2 = deepcopy(df_res)\n",
    "\n",
    "# set-up simulations\n",
    "t0 = 3.0                                    # harmonisation time\n",
    "num_obs = [10,30,50,100,300,1_000, 5_000]   # number of data points\n",
    "\n",
    "# simulate results across number of obs.\n",
    "for i in num_obs:\n",
    "    x1 = np.linspace(-2, 4., i)\n",
    "    y1 = -6*x1\n",
    "\n",
    "    x2 = np.linspace(2, 20, i)\n",
    "    y2 = 0.5*x2 + x2**3\n",
    "\n",
    "    res = harmonise((x1,x2), (y1,x2), t0)\n",
    "\n",
    "    for df, f in zip([df_res, df_res2], [\"f\",\"df\"]):\n",
    "        df[\"N\"].append(i)\n",
    "        df[\"historical\"].append(res[f\"{f}1\"][-1])\n",
    "        df[\"abs\"].append(res[f\"{f}2_abs\"][0])\n",
    "        df[\"abs_slope\"].append(res[f\"{f}2_adj\"][0])\n",
    "        df[\"interpolated\"].append(res[f\"{f}2_intpol\"][0])"
   ],
   "outputs": [],
   "execution_count": 82
  },
  {
   "metadata": {},
   "cell_type": "markdown",
   "source": [
    "## Results\n",
    "### zero-order derivative at t0"
   ],
   "id": "445062b7d365bad0"
  },
  {
   "metadata": {
    "ExecuteTime": {
     "end_time": "2025-03-10T09:51:22.754490Z",
     "start_time": "2025-03-10T09:51:22.739365Z"
    }
   },
   "cell_type": "code",
   "source": [
    "# absolute values (zero-order derivative)\n",
    "pd.DataFrame(df_res).round(2)"
   ],
   "id": "8738d5ad5e9bb3e3",
   "outputs": [
    {
     "data": {
      "text/plain": [
       "      N  historical    abs  abs_slope  interpolated\n",
       "0    10      -20.00 -17.00     -24.00        -23.83\n",
       "1    30      -19.03 -17.76     -19.45        -19.43\n",
       "2    50      -18.12 -17.90     -18.61        -18.61\n",
       "3   100      -18.18 -17.91     -18.55        -18.54\n",
       "4   300      -18.10 -17.98     -18.14        -18.14\n",
       "5  1000      -18.02 -17.99     -18.05        -18.05\n",
       "6  5000      -18.00 -18.00     -18.01        -18.01"
      ],
      "text/html": [
       "<div>\n",
       "<style scoped>\n",
       "    .dataframe tbody tr th:only-of-type {\n",
       "        vertical-align: middle;\n",
       "    }\n",
       "\n",
       "    .dataframe tbody tr th {\n",
       "        vertical-align: top;\n",
       "    }\n",
       "\n",
       "    .dataframe thead th {\n",
       "        text-align: right;\n",
       "    }\n",
       "</style>\n",
       "<table border=\"1\" class=\"dataframe\">\n",
       "  <thead>\n",
       "    <tr style=\"text-align: right;\">\n",
       "      <th></th>\n",
       "      <th>N</th>\n",
       "      <th>historical</th>\n",
       "      <th>abs</th>\n",
       "      <th>abs_slope</th>\n",
       "      <th>interpolated</th>\n",
       "    </tr>\n",
       "  </thead>\n",
       "  <tbody>\n",
       "    <tr>\n",
       "      <th>0</th>\n",
       "      <td>10</td>\n",
       "      <td>-20.00</td>\n",
       "      <td>-17.00</td>\n",
       "      <td>-24.00</td>\n",
       "      <td>-23.83</td>\n",
       "    </tr>\n",
       "    <tr>\n",
       "      <th>1</th>\n",
       "      <td>30</td>\n",
       "      <td>-19.03</td>\n",
       "      <td>-17.76</td>\n",
       "      <td>-19.45</td>\n",
       "      <td>-19.43</td>\n",
       "    </tr>\n",
       "    <tr>\n",
       "      <th>2</th>\n",
       "      <td>50</td>\n",
       "      <td>-18.12</td>\n",
       "      <td>-17.90</td>\n",
       "      <td>-18.61</td>\n",
       "      <td>-18.61</td>\n",
       "    </tr>\n",
       "    <tr>\n",
       "      <th>3</th>\n",
       "      <td>100</td>\n",
       "      <td>-18.18</td>\n",
       "      <td>-17.91</td>\n",
       "      <td>-18.55</td>\n",
       "      <td>-18.54</td>\n",
       "    </tr>\n",
       "    <tr>\n",
       "      <th>4</th>\n",
       "      <td>300</td>\n",
       "      <td>-18.10</td>\n",
       "      <td>-17.98</td>\n",
       "      <td>-18.14</td>\n",
       "      <td>-18.14</td>\n",
       "    </tr>\n",
       "    <tr>\n",
       "      <th>5</th>\n",
       "      <td>1000</td>\n",
       "      <td>-18.02</td>\n",
       "      <td>-17.99</td>\n",
       "      <td>-18.05</td>\n",
       "      <td>-18.05</td>\n",
       "    </tr>\n",
       "    <tr>\n",
       "      <th>6</th>\n",
       "      <td>5000</td>\n",
       "      <td>-18.00</td>\n",
       "      <td>-18.00</td>\n",
       "      <td>-18.01</td>\n",
       "      <td>-18.01</td>\n",
       "    </tr>\n",
       "  </tbody>\n",
       "</table>\n",
       "</div>"
      ]
     },
     "execution_count": 83,
     "metadata": {},
     "output_type": "execute_result"
    }
   ],
   "execution_count": 83
  },
  {
   "metadata": {},
   "cell_type": "markdown",
   "source": "### first-order derivative at t0",
   "id": "b8e0fc477bcf7852"
  },
  {
   "metadata": {
    "ExecuteTime": {
     "end_time": "2025-03-10T09:51:25.159091Z",
     "start_time": "2025-03-10T09:51:25.137901Z"
    }
   },
   "cell_type": "code",
   "source": [
    "# first-order derivative\n",
    "pd.DataFrame(df_res2).round(2)"
   ],
   "id": "7b9bd0f9ca2c2b4c",
   "outputs": [
    {
     "data": {
      "text/plain": [
       "      N  historical  abs  abs_slope  interpolated\n",
       "0    10        -6.0  1.0       -6.0         -5.65\n",
       "1    30        -6.0  1.0       -6.0         -5.89\n",
       "2    50        -6.0  1.0       -6.0         -5.93\n",
       "3   100        -6.0  1.0       -6.0         -5.93\n",
       "4   300        -6.0  1.0       -6.0         -5.94\n",
       "5  1000        -6.0  1.0       -6.0         -5.95\n",
       "6  5000        -6.0  1.0       -6.0         -5.95"
      ],
      "text/html": [
       "<div>\n",
       "<style scoped>\n",
       "    .dataframe tbody tr th:only-of-type {\n",
       "        vertical-align: middle;\n",
       "    }\n",
       "\n",
       "    .dataframe tbody tr th {\n",
       "        vertical-align: top;\n",
       "    }\n",
       "\n",
       "    .dataframe thead th {\n",
       "        text-align: right;\n",
       "    }\n",
       "</style>\n",
       "<table border=\"1\" class=\"dataframe\">\n",
       "  <thead>\n",
       "    <tr style=\"text-align: right;\">\n",
       "      <th></th>\n",
       "      <th>N</th>\n",
       "      <th>historical</th>\n",
       "      <th>abs</th>\n",
       "      <th>abs_slope</th>\n",
       "      <th>interpolated</th>\n",
       "    </tr>\n",
       "  </thead>\n",
       "  <tbody>\n",
       "    <tr>\n",
       "      <th>0</th>\n",
       "      <td>10</td>\n",
       "      <td>-6.0</td>\n",
       "      <td>1.0</td>\n",
       "      <td>-6.0</td>\n",
       "      <td>-5.65</td>\n",
       "    </tr>\n",
       "    <tr>\n",
       "      <th>1</th>\n",
       "      <td>30</td>\n",
       "      <td>-6.0</td>\n",
       "      <td>1.0</td>\n",
       "      <td>-6.0</td>\n",
       "      <td>-5.89</td>\n",
       "    </tr>\n",
       "    <tr>\n",
       "      <th>2</th>\n",
       "      <td>50</td>\n",
       "      <td>-6.0</td>\n",
       "      <td>1.0</td>\n",
       "      <td>-6.0</td>\n",
       "      <td>-5.93</td>\n",
       "    </tr>\n",
       "    <tr>\n",
       "      <th>3</th>\n",
       "      <td>100</td>\n",
       "      <td>-6.0</td>\n",
       "      <td>1.0</td>\n",
       "      <td>-6.0</td>\n",
       "      <td>-5.93</td>\n",
       "    </tr>\n",
       "    <tr>\n",
       "      <th>4</th>\n",
       "      <td>300</td>\n",
       "      <td>-6.0</td>\n",
       "      <td>1.0</td>\n",
       "      <td>-6.0</td>\n",
       "      <td>-5.94</td>\n",
       "    </tr>\n",
       "    <tr>\n",
       "      <th>5</th>\n",
       "      <td>1000</td>\n",
       "      <td>-6.0</td>\n",
       "      <td>1.0</td>\n",
       "      <td>-6.0</td>\n",
       "      <td>-5.95</td>\n",
       "    </tr>\n",
       "    <tr>\n",
       "      <th>6</th>\n",
       "      <td>5000</td>\n",
       "      <td>-6.0</td>\n",
       "      <td>1.0</td>\n",
       "      <td>-6.0</td>\n",
       "      <td>-5.95</td>\n",
       "    </tr>\n",
       "  </tbody>\n",
       "</table>\n",
       "</div>"
      ]
     },
     "execution_count": 84,
     "metadata": {},
     "output_type": "execute_result"
    }
   ],
   "execution_count": 84
  },
  {
   "metadata": {
    "ExecuteTime": {
     "end_time": "2025-03-10T09:51:28.329428Z",
     "start_time": "2025-03-10T09:51:28.246999Z"
    }
   },
   "cell_type": "code",
   "source": [
    "plt.figure(figsize=(6,3))\n",
    "plt.plot(res[\"x2\"], res[\"f2\"], label=\"original\", linestyle=\"--\", color=\"black\")\n",
    "plt.plot(res[\"x2\"], res[\"f2_intpol\"], label=\"interpolated\")\n",
    "plt.plot(res[\"x2\"], res[\"f2_abs\"], label=\"abs\")\n",
    "plt.plot(res[\"x2\"], res[\"f2_adj\"], label=\"abs+slope\")\n",
    "plt.plot(res[\"x1\"], res[\"f1\"], label=\"historical\", color=\"red\")\n",
    "plt.axvline(t0, color=\"black\", linestyle=\"dotted\")\n",
    "plt.legend(handlelength=0.3, fontsize=\"small\", frameon=False, loc=\"lower left\")\n",
    "plt.show()\n"
   ],
   "id": "85a6409a9679fc71",
   "outputs": [
    {
     "data": {
      "text/plain": [
       "<Figure size 600x300 with 1 Axes>"
      ],
      "image/png": "[encoded data removed]"
     },
     "metadata": {},
     "output_type": "display_data"
    }
   ],
   "execution_count": 85
  },
  {
   "metadata": {},
   "cell_type": "markdown",
   "source": "## Sensitivity analysis",
   "id": "9c0a573a77201388"
  },
  {
   "metadata": {
    "ExecuteTime": {
     "end_time": "2025-03-10T08:11:36.802818Z",
     "start_time": "2025-03-10T08:11:36.793682Z"
    }
   },
   "cell_type": "code",
   "source": [
    "np.mean([abs_t0[i][\"f1\"][-1] for i in range(len(abs_t0))])\n",
    "np.std([abs_t0[i][\"f1\"][-1] for i in range(len(abs_t0))])\n",
    "\n",
    "[abs_t0[i][\"f1\"][-1] for i in range(len(abs_t0))]"
   ],
   "id": "25527b0768a98d1e",
   "outputs": [
    {
     "data": {
      "text/plain": [
       "[np.float64(-47.680000000000064),\n",
       " np.float64(-47.680000000000064),\n",
       " np.float64(-47.680000000000064),\n",
       " np.float64(-47.680000000000064),\n",
       " np.float64(-47.680000000000064),\n",
       " np.float64(-47.680000000000064),\n",
       " np.float64(-47.680000000000064),\n",
       " np.float64(-47.680000000000064),\n",
       " np.float64(-47.680000000000064),\n",
       " np.float64(-47.680000000000064),\n",
       " np.float64(-47.680000000000064),\n",
       " np.float64(-47.680000000000064),\n",
       " np.float64(-47.680000000000064),\n",
       " np.float64(-47.680000000000064),\n",
       " np.float64(-47.680000000000064),\n",
       " np.float64(-47.680000000000064),\n",
       " np.float64(-47.680000000000064),\n",
       " np.float64(-47.680000000000064),\n",
       " np.float64(-47.680000000000064),\n",
       " np.float64(-47.680000000000064),\n",
       " np.float64(-47.680000000000064),\n",
       " np.float64(-47.680000000000064),\n",
       " np.float64(-47.680000000000064),\n",
       " np.float64(-47.680000000000064),\n",
       " np.float64(-47.680000000000064),\n",
       " np.float64(-47.680000000000064),\n",
       " np.float64(-47.680000000000064),\n",
       " np.float64(-47.680000000000064),\n",
       " np.float64(-47.680000000000064),\n",
       " np.float64(-47.680000000000064)]"
      ]
     },
     "execution_count": 15,
     "metadata": {},
     "output_type": "execute_result"
    }
   ],
   "execution_count": 15
  }
 ],
 "metadata": {
  "kernelspec": {
   "display_name": "Python 3",
   "language": "python",
   "name": "python3"
  },
  "language_info": {
   "codemirror_mode": {
    "name": "ipython",
    "version": 2
   },
   "file_extension": ".py",
   "mimetype": "text/x-python",
   "name": "python",
   "nbconvert_exporter": "python",
   "pygments_lexer": "ipython2",
   "version": "2.7.6"
  }
 },
 "nbformat": 4,
 "nbformat_minor": 5
}
